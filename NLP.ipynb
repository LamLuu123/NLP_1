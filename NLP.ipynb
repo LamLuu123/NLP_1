{
  "nbformat": 4,
  "nbformat_minor": 0,
  "metadata": {
    "colab": {
      "provenance": [],
      "collapsed_sections": []
    },
    "kernelspec": {
      "name": "python3",
      "display_name": "Python 3"
    },
    "language_info": {
      "name": "python"
    }
  },
  "cells": [
    {
      "cell_type": "markdown",
      "source": [
        "#GROUP HOMEWORK\n",
        "##Members:\n",
        "- Trần Duy Linh - 19021320\n",
        "- Lưu Văn Lâm - 19021318"
      ],
      "metadata": {
        "id": "ycDoLtlZuZuF"
      }
    },
    {
      "cell_type": "markdown",
      "source": [
        "##Download dataset"
      ],
      "metadata": {
        "id": "ImOgYIa8M17g"
      }
    },
    {
      "cell_type": "code",
      "execution_count": 7,
      "metadata": {
        "id": "j67JiQu9IJlY"
      },
      "outputs": [],
      "source": [
        "import pandas as pd\n",
        "import numpy as np\n",
        "import string\n",
        "from tqdm import tqdm\n",
        "\n",
        "from sklearn.metrics.pairwise import cosine_similarity\n",
        "from sklearn.linear_model import LogisticRegression\n",
        "from sklearn.neural_network import MLPClassifier\n",
        "from sklearn.metrics import f1_score, recall_score, precision_score, accuracy_score"
      ]
    },
    {
      "cell_type": "code",
      "source": [
        "!git clone https://github.com/NLP-Projects/Word-Similarity.git\n",
        "\n",
        "# Download W2V_150.txt\n",
        "!gdown 1z1IDKaZuJXw5g7Yebr1GDq2UfvVR_aGx"
      ],
      "metadata": {
        "colab": {
          "base_uri": "https://localhost:8080/"
        },
        "id": "hBSDn5O3WC9z",
        "outputId": "39ae5299-0296-455a-8c41-8a7aaeaf3101"
      },
      "execution_count": 8,
      "outputs": [
        {
          "output_type": "stream",
          "name": "stdout",
          "text": [
            "fatal: destination path 'Word-Similarity' already exists and is not an empty directory.\n",
            "Downloading...\n",
            "From: https://drive.google.com/uc?id=1z1IDKaZuJXw5g7Yebr1GDq2UfvVR_aGx\n",
            "To: /content/W2V_150.txt\n",
            "100% 119M/119M [00:00<00:00, 296MB/s]\n"
          ]
        }
      ]
    },
    {
      "cell_type": "code",
      "source": [
        "visim_400 = pd.read_csv('Word-Similarity/datasets/ViSim-400/Visim-400.txt',sep='\\t')\n",
        "vicon_400_noun_pairs = pd.read_csv('Word-Similarity/datasets/ViCon-400/400_noun_pairs.txt',sep='\\t')\n",
        "vicon_400_verb_pairs = pd.read_csv('Word-Similarity/datasets/ViCon-400/400_verb_pairs.txt',sep='\\t')\n",
        "vicon_600_adj_pairs = pd.read_csv('Word-Similarity/datasets/ViCon-400/600_adj_pairs.txt',sep='\\t')\n",
        "word2vec_path = 'W2V_150.txt'"
      ],
      "metadata": {
        "id": "XRxP15y-Tjh6"
      },
      "execution_count": 9,
      "outputs": []
    },
    {
      "cell_type": "code",
      "source": [
        "def read_embedding(path):\n",
        "    words = {}\n",
        "    with open(path, \"r\") as f:\n",
        "        lines = f.readlines()\n",
        "\n",
        "    # return array of map with KEY is word and point list of float value\n",
        "    for line in tqdm(lines[2:]):\n",
        "        line = line[:-1].strip().split(\" \")  # remove \"\\n\" last line\n",
        "\n",
        "        line.remove(\"\")\n",
        "\n",
        "        # Point list of float value\n",
        "        words[line[0]] = np.array(list(map(float, line[1:])))\n",
        "    return words\n",
        "\n",
        "# Read word2vec file\n",
        "word2vec = read_embedding(word2vec_path)\n",
        "\n",
        "print(\"\\nDone!\")"
      ],
      "metadata": {
        "colab": {
          "base_uri": "https://localhost:8080/"
        },
        "id": "3Atkj_FdwFgB",
        "outputId": "4a37de09-74b7-4b3b-9f2d-e94b6ee3caaa"
      },
      "execution_count": 10,
      "outputs": [
        {
          "output_type": "stream",
          "name": "stderr",
          "text": [
            "100%|██████████| 77021/77021 [00:03<00:00, 22423.74it/s]"
          ]
        },
        {
          "output_type": "stream",
          "name": "stdout",
          "text": [
            "\n",
            "Done!\n"
          ]
        },
        {
          "output_type": "stream",
          "name": "stderr",
          "text": [
            "\n"
          ]
        }
      ]
    },
    {
      "cell_type": "markdown",
      "source": [
        "##*1. Cosine similarity*\n",
        "Given pre-trained embeddings of Vietnamese words, implement a function for calculating cosine similarity between word pairs. Test your program using word pairs in ViSim-400 dataset (in directory Datasets/ViSim-400)."
      ],
      "metadata": {
        "id": "v9Q3Oqxfw4Vz"
      }
    },
    {
      "cell_type": "code",
      "source": [
        "def print_sim(highs,type):\n",
        "  if(type==\"cao\"):print(\"\\n\\n\\n\\n Độ tương tự cao \\n\")\n",
        "  if(type==\"thấp\"):print(\"\\n\\n\\n\\n Độ tương tự thấp \\n\")\n",
        "  if(type==\"trung\"):print(\"\\n\\n\\n\\n Độ tương tự trung \\n\")\n",
        "  for high in highs :\n",
        "    print(high)\n",
        "  "
      ],
      "metadata": {
        "id": "sMZ_pc_Getq8"
      },
      "execution_count": 112,
      "outputs": []
    },
    {
      "cell_type": "code",
      "source": [
        "def calculate_cosine_sim(word1, word2):\n",
        "  return cosine_similarity([word2vec[word1]],[word2vec[word2]])[0][0]\n",
        "\n",
        "def cosine_sim(datasets):\n",
        "\n",
        "  # file to export output\n",
        "  f = open('output/cosine_sim_of_Visim-400_output.txt','w',encoding='utf8')\n",
        "\n",
        "  # add categories name\n",
        "  f.write(\"Word1 Word2 CosineSim \\n\")\n",
        "  high_sim_array=[]\n",
        "  medium_sim_array=[]\n",
        "  low_sim_array=[]\n",
        "  for  index,rows in datasets.iterrows():\n",
        "    word1 = rows['Word1']\n",
        "    word2 = rows['Word2']\n",
        "    if word1 in word2vec and word2 in word2vec:\n",
        "\n",
        "      # calculate cosine similarity between word1 and word2\n",
        "      cosine_sim = calculate_cosine_sim(word1, word2)\n",
        "\n",
        "      if(len(high_sim_array)<=2) :\n",
        "        high_sim_array.append([word1, word2, cosine_sim])\n",
        "      if(len(low_sim_array)<=2) :\n",
        "        low_sim_array.append([word1, word2, cosine_sim])\n",
        "      if(len(medium_sim_array)<=2) :\n",
        "        if( cosine_sim>=0.4 and cosine_sim <= 0.8):\n",
        "            medium_sim_array.append([word1, word2, cosine_sim])\n",
        "        \n",
        "      else :\n",
        "        for high_item in high_sim_array:\n",
        "          if(high_item[2]<cosine_sim):\n",
        "            high_item[0] = word1\n",
        "            high_item[1] = word2\n",
        "            high_item[2] = cosine_sim\n",
        "            break\n",
        "        for low_item in low_sim_array:\n",
        "          if(low_item[2]>cosine_sim):\n",
        "            low_item[0] = word1\n",
        "            low_item[1] = word2\n",
        "            low_item[2] = cosine_sim\n",
        "            break\n",
        "\n",
        "      # print of word1, word2 and cosine similarity\n",
        "      print(word1, word2, cosine_sim)\n",
        "      \n",
        "      # write in export file\n",
        "      f.write(word1 + \" \" + word2 + \" \" + str(cosine_sim) + \"\\n\")\n",
        "  print_sim(high_sim_array,\"cao\")\n",
        "  print_sim(low_sim_array,\"thấp\")\n",
        "  print_sim(medium_sim_array,\"trung\")\n",
        "  f.close()"
      ],
      "metadata": {
        "id": "pSYOSsSzEkQq"
      },
      "execution_count": 128,
      "outputs": []
    },
    {
      "cell_type": "markdown",
      "source": [
        "Test with ViSim-400 dataset"
      ],
      "metadata": {
        "id": "cxM5rttFV5sh"
      }
    },
    {
      "cell_type": "code",
      "source": [
        "# create output folder\n",
        "!mkdir output\n",
        "\n",
        "# test with ViSim-400 dataset\n",
        "cosine_sim(visim_400)"
      ],
      "metadata": {
        "id": "9H5GfHEAWAZZ",
        "colab": {
          "base_uri": "https://localhost:8080/"
        },
        "outputId": "cdde0009-b01d-464c-bb8c-b510375a6653"
      },
      "execution_count": 127,
      "outputs": [
        {
          "output_type": "stream",
          "name": "stdout",
          "text": [
            "mkdir: cannot create directory ‘output’: File exists\n",
            "biến ngập -0.004912339469670016\n",
            "nhà_thi_đấu nhà 0.08252318329211769\n",
            "động tĩnh 0.2770859598682776\n",
            "khuyết ưu 0.17679862835626714\n",
            "thủ_pháp biện_pháp 0.40236612919430614\n",
            "kết_duyên thành_hôn 0.46300840201407223\n",
            "cấp_tiến bảo_thủ 0.25694700889961236\n",
            "nước_lớn nguy_hiểm 0.18519202240211619\n",
            "hoa nhị 0.22306960452548538\n",
            "bất_lợi thuận_lợi 0.5348913029963394\n",
            "phân_ly sum_họp 0.07770108930396215\n",
            "diễu_hành tuần_hành 0.6438835401838533\n",
            "cao_trào thoái_trào 0.3610325527728171\n",
            "thịnh suy 0.05960237084921928\n",
            "con_voi ngà 0.23895503536998705\n",
            "cá_chuối cá_quả 0.16647413914742729\n",
            "đổ_bê_tông biếu_xén -0.1728400720961946\n",
            "con_đẻ con_ruột 0.641788803471788\n",
            "uỷ_nhiệm phân_công 0.2875352779105756\n",
            "bay_lượn chuyển_động 0.3881971694440945\n",
            "khêu_gợi khơi_gợi 0.2559647287960098\n",
            "thăng_bằng cân_bằng 0.4804319423855617\n",
            "chọn_lựa tuyển_chọn 0.4724262988742085\n",
            "có_ích hữu_ích 0.6624093852340638\n",
            "cứng_rắn nhỏ_nhắn 0.22523314998167998\n",
            "lỗ_đen hố_đen 0.7340683342360697\n",
            "vùi đóng -0.013609544519483867\n",
            "tính_tình tính_khí 0.6878254420258126\n",
            "mục_sư giáo_sĩ 0.5964044436335486\n",
            "cộng_đồng dân_tộc 0.37544414221247074\n",
            "rớ sờ 0.38561358220504466\n",
            "trả_đũa đền_đáp 0.23305646417105486\n",
            "tay_cầm phân_đạm -0.030257136838635332\n",
            "liên_hệ nguỵ_trang 0.09239815053322081\n",
            "mới_tinh mới_toanh 0.48129019497587294\n",
            "cột_trụ bệ 0.4430288482597332\n",
            "họp_mặt tiệc 0.4276402056214264\n",
            "lộn_xộn gọn_gàng 0.3435372146285757\n",
            "chủ_động thụ_động 0.47775360404332434\n",
            "vali tay_cầm 0.16598255399110184\n",
            "ghen_tị ghen_ghét 0.351880021628146\n",
            "ngôn_ngữ_học khoa_học 0.5372508509460164\n",
            "thu_gom tiếp_sức 0.1701818567112757\n",
            "quy_trình sáng_tác -0.09567834469126141\n",
            "thành_thị thị_thành 0.4058112852321533\n",
            "nhảy_nhót nhích 0.17700723858902043\n",
            "ly_tâm hướng_tâm 0.09295287557078616\n",
            "cống đường_ống 0.6561799539297558\n",
            "còm nhỏ_nhoi 0.15914793635264574\n",
            "bánh_răng răng 0.25739986258329356\n",
            "nao_núng kiên_định 0.2518184385854665\n",
            "bằng_hữu bầu_bạn 0.3138728888635597\n",
            "thân lưng 0.3079313269934211\n",
            "bút_chì lô 0.1415034613885759\n",
            "cổng ổ_khoá 0.3536777035092058\n",
            "dị_bản đĩa_bay 0.16630008250549982\n",
            "truy_cập thâm_nhập 0.49028561544494875\n",
            "âm nguy_hiểm 0.09024219330167871\n",
            "thăng_trầm khô_kiệt -0.009955192323517756\n",
            "thay_thế biến_đổi 0.1830577837473458\n",
            "ban_công lan_can 0.5501337928711714\n",
            "dưới trên 0.21009877021166765\n",
            "kháng_cự phản_đối 0.054426488290612404\n",
            "vế vai_vế 0.19459174867201623\n",
            "vắng_lặng ồn_ào 0.5530819388468132\n",
            "xót_thương đau_lòng 0.5396216352705177\n",
            "găng_tay quần_áo 0.4447774501118989\n",
            "sinh_vật_cảnh đồng_dao 0.1825286954575552\n",
            "lặn mọc 0.18843272864163024\n",
            "bồ_bịch nhân_tình 0.43056757732347745\n",
            "bằng_chứng chứng_cứ 0.7283479572944092\n",
            "hạ_màn mở_màn 0.4812829664913449\n",
            "ca_tụng đoàn_kết 0.061653751347639736\n",
            "ngày đêm 0.5018292655269101\n",
            "lan_can rào 0.4971949287888648\n",
            "trở_lại đảo_ngược 0.2640552460341624\n",
            "nhạc_nhẹ tiểu_học -0.008235419222734637\n",
            "tự_do đức_tính 0.0016070145754621058\n",
            "hợp_nhất liên_kết 0.33817375060427285\n",
            "hoàng_tộc hoàng_gia 0.43346360554125296\n",
            "đầu_mối chỗ 0.16435135139844606\n",
            "tinh_luyện hoá_lỏng 0.3489107092225544\n",
            "bí_hiểm bí_mật 0.2876447889689539\n",
            "chung_tình phụ_bạc 0.3992949727831533\n",
            "bàn_cãi cân_nhắc 0.2770686674587824\n",
            "nhảy_cao ném_đĩa 0.47279604614419507\n",
            "tiếng_chuông âm_thanh 0.3806990925318219\n",
            "tha_thẩn thơ_thẩn 0.6520561739956899\n",
            "thuyền bánh_lái 0.39575242059890214\n",
            "nấp hiện 0.03702930747439415\n",
            "cất giấu 0.42559370637688404\n",
            "âm gốc 0.30025824759726966\n",
            "đặt thả_lỏng 0.11788818684113597\n",
            "chỉnh_hình tiểu_học 0.11930273869880284\n",
            "tẩy cạn 0.14183917722562248\n",
            "cây_trồng đĩa_bay 0.10001389172491257\n",
            "chỉnh_hình luồng -0.1734085621540296\n",
            "màng_tế_bào bảng_tổng_sắp -0.01966436585675586\n",
            "ngót_nghét xấp_xỉ 0.43308509164042475\n",
            "biến_động cố_định 0.23889655843263052\n",
            "khuyết_điểm ưu_điểm 0.3924741581975576\n",
            "nhạo_báng khiếm_nhã 0.4791904396921671\n",
            "hại lợi 0.2310026808217748\n",
            "bướu_cổ bệnh_tật 0.3949983289878127\n",
            "cây_thuốc cây_hoa_màu 0.36495798502767884\n",
            "tinh_lọc tinh_chế 0.5270150819554983\n",
            "bức_bối nguỵ_trang -0.04568560756811624\n",
            "thân_thể đầu -0.04944032913153988\n",
            "quỷ_quyệt xảo_quyệt 0.6348067524315941\n",
            "hoang_phí hà_tiện 0.5036435709308653\n",
            "cóp_nhặt để_dành 0.1500238457985919\n",
            "may rủi 0.07522659536547077\n",
            "tum chân_vịt 0.18165490346597904\n",
            "nhạo vèo 0.15451682858848514\n",
            "ngoại_lệ thường_lệ -0.03716774487133834\n",
            "phong_độ phong_thái 0.37012652970055815\n",
            "biết_ơn vô_ơn 0.2860110005075182\n",
            "buồn_bã nối_tiếp 0.09990871301551099\n",
            "quay chuyển_hướng 0.29619814995280896\n",
            "tập_dượt tập_luyện 0.43431450273571587\n",
            "oxy_hoá đổi_thay 0.11986410627414436\n",
            "trà bụi 0.22222659830449654\n",
            "phỏng mảnh 0.08176410293427969\n",
            "phòng_ngủ công_trình_phụ 0.28153874768024295\n",
            "hình_hoạ cung_bậc 0.16802562529114887\n",
            "hoạ phúc 0.11699808527980936\n",
            "nửa_mùa đồng_điệu -0.011829051147234792\n",
            "thịnh_hành hữu_tình 0.07773202880372383\n",
            "lời_lãi thua_lỗ 0.2665077694367288\n",
            "con_đường vỉa_hè 0.3117406057866716\n",
            "chính_nghĩa phi_nghĩa 0.557049383355903\n",
            "trần_gian cõi_âm 0.34624409834103914\n",
            "vượng suy 0.008037526967851986\n",
            "ấp_úng nói 0.21051430924976464\n",
            "thất_bại thành_công 0.46645676570529304\n",
            "ái_mộ hâm_mộ 0.4691648359613328\n",
            "nỗi_đau tai_hoạ 0.49030415677745254\n",
            "định_kỳ bất_thường 0.14386352310042133\n",
            "trước sau 0.5766044993249183\n",
            "đánh_bóng làm_đẹp 0.3821435174904367\n",
            "đoán quan_sát 0.3203280207654823\n",
            "đồ_dùng đồ_vật 0.5749492271691554\n",
            "giải_tán tập_hợp 0.1938966956439718\n",
            "nhóm liên_kết 0.2416479539708365\n",
            "đầu_tiên cuối_cùng 0.5106627798317873\n",
            "quyển bìa 0.2094031308193885\n",
            "vượt_tuyến hằn_học -0.029710370501402874\n",
            "chiến_bại thắng_lợi 0.28370160496148616\n",
            "đỡ_đần bình_luận 0.017015264264734483\n",
            "hạ tăng 0.3598694592527044\n",
            "bội_bạc chung_thuỷ 0.339788520972934\n",
            "nhà_máy dây_chuyền 0.35946235162793316\n",
            "tàu_hoả xe_điện_ngầm 0.4219105066378002\n",
            "thuở thủa 0.8614688965162298\n",
            "tranh trông_nom -0.03336303444684784\n",
            "xuôi ngược 0.3147970114480479\n",
            "biên_nhận móc 0.003812864507477391\n",
            "thi_hành bắt 0.05875819222896621\n",
            "cự_tuyệt bãi_bỏ 0.3968391917193708\n",
            "hiện_trạng tình_cảnh 0.19672622271313023\n",
            "vượt_tuyến dứt_điểm 0.25933155773078453\n",
            "bằng văn_bằng 0.055385338799636356\n",
            "tĩnh_dưỡng lộn_xộn -0.021294972294592197\n",
            "nhốt thả 0.3982852543031886\n",
            "nội_tiết huyệt 0.18902841445299542\n",
            "phụ_bản truyện_tranh 0.34742932256996956\n",
            "phong_thư địa_chỉ 0.24974902912087057\n",
            "thời_bình thời_chiến 0.6089198433181582\n",
            "áo_quan quan_tài 0.6755826366795628\n",
            "trẩy_hội ví 0.0531405548126111\n",
            "cũ_kỹ mới_mẻ 0.32329093548038473\n",
            "sân_vận_động khán_đài 0.570699646165023\n",
            "được mất -0.005103764065359734\n",
            "hiểu tiên_lượng 0.25262702314737884\n",
            "quét_dọn loại_bỏ 0.045425622535701954\n",
            "bay_hơi bay 0.1485309587805349\n",
            "dễ_dàng khó_khăn 0.42687936528822523\n",
            "gạ gạ_gẫm 0.6700650441380146\n",
            "nhậm_chức nhiệm_chức 0.31416332630835714\n",
            "hổ_thẹn bắt_buộc 0.28823654399925036\n",
            "dấu_hiệu đặc_trưng 0.12474992364601212\n",
            "người_dân tộc_người 0.34523843669548077\n",
            "bật_lửa giảm_xóc 0.1767910368689936\n",
            "sinh_vật_cảnh không_trung 0.07106153794008307\n",
            "chần_chờ dứt_khoát -0.08150806029953679\n",
            "tư_thế phong_thái 0.3356669673410032\n",
            "máy_vi_tính phím 0.23320122920705524\n",
            "sụp_đổ kìm_nén 0.2213755187988628\n",
            "mắc_kẹt cầm_giữ 0.4746347996570515\n",
            "hình_hoạ khí_quyển 0.09329309110204233\n",
            "thuộc_địa kiều_dân 0.3203891892969699\n",
            "nhà_hát sân_khấu 0.4406483602432743\n",
            "thìa muỗng 0.8422977453212417\n",
            "tỏ biểu_lộ 0.4975748131956011\n",
            "chiến_tranh trận_chiến 0.41155810481633043\n",
            "cộc va 0.03402576743432387\n",
            "tính_sổ giám_đốc_thẩm 0.030978479246472915\n",
            "hơn thua 0.08605219900956886\n",
            "cựu_binh tân_binh 0.4558141143486745\n",
            "tính_sổ nuôi_dưỡng 0.07438552352594877\n",
            "hâm_nóng cải_biến 0.39097386200228273\n",
            "bón tẩm 0.2268719440145626\n",
            "thảm thê_thảm 0.2182430752414123\n",
            "lắp_đặt nhồi_nhét 0.08913522264813221\n",
            "tạo_hoá tạo_vật 0.2990252010643609\n",
            "hen cúm 0.339309078467902\n",
            "mệt_mỏi mỏi_mệt 0.7741543992805757\n",
            "tắc_nghẽn thông_suốt 0.36459718913377676\n",
            "trọng coi_trọng 0.3824314984324389\n",
            "đẽo bắt 0.06499285201502493\n",
            "hú ca 0.1464250343019972\n",
            "danh_sách mục 0.25190297932721706\n",
            "chuyển_nhượng phát_mại 0.18257703468211917\n",
            "vòng_tay trang_sức 0.11202609620054434\n",
            "đổ_bê_tông chăm_sóc 0.055979056308361044\n",
            "kín phát 0.018338220644070397\n",
            "người_tình chiến_sĩ 0.10625734688523507\n",
            "cuối đầu 0.6423954310858541\n",
            "cần_tây đậu_bắp 0.5502537205294664\n",
            "định_kì bất_thường 0.15856256685433026\n",
            "thiện_chí ác_ý 0.3047469014202974\n",
            "biên_cương biên_giới 0.3556312431908081\n",
            "sông cửa_sông 0.6408591579368885\n",
            "tím bẹp 0.10812724165852339\n",
            "năm_âm_lịch tháng_âm_lịch 0.5719292130062956\n",
            "đỡ_đần suy_xét 0.15468965044907826\n",
            "bầm mệ 0.041451936854095685\n",
            "dáng tản_bộ 0.1009169482083195\n",
            "sinh_vật tế_bào 0.4987182279416987\n",
            "nhau rau 0.11630711350656078\n",
            "đồng_tình phản_đối 0.29063934887732507\n",
            "thanh dụng_cụ 0.14819665087209494\n",
            "điệu háo 0.10802345785899917\n",
            "tử_trận tiếp_sức 0.08307659943912193\n",
            "trù_dập trù_úm 0.5963759133200226\n",
            "tứ_kết trận_đấu 0.4006946060995245\n",
            "tình_ca ca_khúc 0.4831838083897518\n",
            "báo_ân trả_thù 0.08692982854633986\n",
            "vững_tâm vững_lòng 0.4154167385619686\n",
            "cũ_rích mới_mẻ 0.1934552074994251\n",
            "lành kẹt 0.028052706758601623\n",
            "tù ngục 0.30755466764509976\n",
            "dày_cộp mỏng_tang 0.3174415682631986\n",
            "cây_trồng thầy_thuốc_nhân_dân 0.09141503336475965\n",
            "điều_hành lục_lọi 0.012591047143755472\n",
            "tự_do phần_cứng 0.0035618958136457487\n",
            "thu_ngân dân_cư 0.10090909433832689\n",
            "cắt tẩm 0.10504266823172612\n",
            "nghị_quyết tài_liệu 0.16571494195645495\n",
            "ăn_nhậu nhậu_nhẹt 0.7283213214108306\n",
            "gắn_kết liên_kết 0.6876932730294391\n",
            "máy_tính bộ_vi_xử_lý 0.5077456024563395\n",
            "cải_thiện thuần_hoá 0.2140835028640664\n",
            "năng_lực tột_độ -0.013589524766159516\n",
            "an_dưỡng tĩnh_dưỡng 0.5461646248126154\n",
            "di_chuyển dời 0.33919365521435496\n",
            "ngoài trong 0.12121632852072153\n",
            "cặp đôi 0.3751939726641791\n",
            "cẳng bắp_chân 0.3039713821404869\n",
            "chiến_tranh hoà_bình 0.34582046971543023\n",
            "đau_đớn làm_phiền 0.06940581189870457\n",
            "gia_tăng lạm_phát 0.19862973632444042\n",
            "thói thái_độ 0.4377516668004628\n",
            "mô_hình cấu_trúc 0.42130065401159994\n",
            "mạo_danh lừa_đảo 0.6075960108364695\n",
            "sếp lãnh_đạo 0.32489756762342725\n",
            "thẻ kỉ_vật 0.11121940691909853\n",
            "hỏi đáp 0.4037583366419032\n",
            "tản_bộ di_chuyển 0.38944377934967545\n",
            "chuệch_choạc chệch_choạc 0.7733680092570684\n",
            "giải_thích ngấm 0.0943707491060577\n",
            "mách mách_nước 0.5305708447274695\n",
            "nước_lớn xuất_xứ 0.08348869272935446\n",
            "số_hoá hoá_lỏng 0.13855356790222595\n",
            "cắt_giảm trừ_khử 0.15933520760572367\n",
            "nhạc_nhẹ cung_bậc 0.15172684174398735\n",
            "túm_tụm quần_tụ 0.3396688306948407\n",
            "thị_giác võng_mạc 0.4509304485084447\n",
            "người_làm dân_chơi 0.15508711627027524\n",
            "phân_chia phân_bổ 0.5284669282716832\n",
            "xâm_nhập xuyên 0.1992037674039463\n",
            "thuộc_hạ người_lớn 0.20046350783200323\n",
            "dịch_chuyển tham_gia 0.031247773465155122\n",
            "bơi ngụp 0.44057553236059877\n",
            "cư_dân người_dân 0.5834579031319869\n",
            "khoan_thai ung_dung 0.31503804509842387\n",
            "xe_tải nóc 0.13102407921040854\n",
            "mùa_đông đông_chí 0.3391485677790276\n",
            "lạc_hậu tiên_tiến 0.29942642246217593\n",
            "chọc_ghẹo biếu_xén 0.25047609054912057\n",
            "nền cận_cảnh -0.11709220841298311\n",
            "sư_tử lăng_kính 0.007990260459697564\n",
            "nguyên_nhân nguyên_do 0.8179892267593376\n",
            "dữ hiền 0.15042709634133444\n",
            "phần_phụ bộ_phận 0.19914344122783603\n",
            "anh_dũng dũng_mãnh 0.14807725543257405\n",
            "buôn_bán vận_tải 0.19001757095205227\n",
            "đâm_sầm phóng 0.3244578435419086\n",
            "bò đi -0.0008110941303699352\n",
            "nội_tiết luồng 0.005273336871372665\n",
            "dị_ứng lương_tri -0.011613802522149741\n",
            "vặn vặn_vẹo 0.33296607923348137\n",
            "lùng_bùng vắng_ngắt 0.1799501818862951\n",
            "chê khen 0.25811458928916675\n",
            "tượng_đài bảng_tổng_sắp 0.06362501672097444\n",
            "người_yêu tình_nhân 0.4074055863436804\n",
            "thiện_cảm ác_cảm 0.5909680719076433\n",
            "trau_chuốt phát_triển 0.13353498403895522\n",
            "gươm lưỡi 0.2521803255020298\n",
            "bánh_xe vành 0.4621548455520125\n",
            "tượng_đài phân_bón -0.08608104825305285\n",
            "nạc búi 0.14359299098434872\n",
            "khung_thành cầu_môn 0.9057290306863826\n",
            "kĩ sơ_sài 0.35760964895937736\n",
            "buồn vui 0.6325065472381484\n",
            "nhược_điểm ưu_điểm 0.6970440205524104\n",
            "quan_hệ trạng_thái 0.179219001331571\n",
            "đong_đưa vung_vẩy 0.37250375118444906\n",
            "bừa_bãi gọn_ghẽ 0.1642864044630158\n",
            "nhà_thơ thi_nhân 0.6541988461158454\n",
            "máy_tính vi_xử_lý 0.4372469749456561\n",
            "né_tránh hích 0.08713397403587107\n",
            "địch ta 0.3410369530265618\n",
            "lưu_thông ách_tắc 0.2946165921960063\n",
            "thứ_yếu rộng_rãi 0.038547390225798735\n",
            "đặt_chân thay 0.20622362094102545\n",
            "dì_ghẻ phụ_huynh 0.2437670352128654\n",
            "rỗi rỗi_rãi 0.5151665388049848\n",
            "tái_phát nhiễm_khuẩn 0.4095160578135807\n",
            "mầm rau_quả 0.1999466028237325\n",
            "hạn_hán lụt_lội 0.6742159346587002\n",
            "lưỡng_lự dứt_khoát 0.23061574870977222\n",
            "tung cấp_phát 0.183572081124065\n",
            "giầu khó 0.13696782538735877\n",
            "làm_đẹp cải_tạo 0.1845901522102158\n",
            "ban_mai sớm_mai 0.4767118176565458\n",
            "quỳ ví 0.05671383013487902\n",
            "bại_lộ lộ 0.47076700173244895\n",
            "tính_cách phẩm_chất 0.4944465344278005\n",
            "triều_đại cổ_đại 0.274375856384894\n",
            "lình_xình nặng_tình 0.1704942074631042\n",
            "người_làm người_bị_hại 0.13500791866154063\n",
            "chần_chừ lảo_đảo 0.11293908545899886\n",
            "khử_trùng sát_trùng 0.7052270180481737\n",
            "\n",
            "\n",
            "\n",
            "\n",
            " Độ tương tự cao \n",
            "\n",
            "['khung_thành', 'cầu_môn', 0.9057290306863826]\n",
            "['thìa', 'muỗng', 0.8422977453212417]\n",
            "['nguyên_nhân', 'nguyên_do', 0.8179892267593376]\n",
            "\n",
            "\n",
            "\n",
            "\n",
            " Độ tương tự thấp \n",
            "\n",
            "['chỉnh_hình', 'luồng', -0.1734085621540296]\n",
            "['nền', 'cận_cảnh', -0.11709220841298311]\n",
            "['tượng_đài', 'phân_bón', -0.08608104825305285]\n",
            "\n",
            "\n",
            "\n",
            "\n",
            " Độ tương tự trung \n",
            "\n",
            "['thủ_pháp', 'biện_pháp', 0.40236612919430614]\n",
            "['kết_duyên', 'thành_hôn', 0.46300840201407223]\n",
            "['bất_lợi', 'thuận_lợi', 0.5348913029963394]\n"
          ]
        }
      ]
    },
    {
      "cell_type": "markdown",
      "source": [
        "##*2.\tK-nearest words*\n",
        "Given a word w, find k most-similar words of w using the function implemented in question 1"
      ],
      "metadata": {
        "id": "A7VBlBdKGBex"
      }
    },
    {
      "cell_type": "code",
      "source": [
        "def KN_Words(word, k):\n",
        "  if not word in list(word2vec.keys()): \n",
        "    return \"Not found word \\\"\"+ word+ \"\\\" in word2vec file!!\"\n",
        "  else:\n",
        "    \n",
        "    # find k word in order to highest cosine similarity with word input\n",
        "    # calculate cosine similarity of all word in word2vec then sort and get k highest value\n",
        "    result=[]\n",
        "    KN_Words = sorted(\n",
        "        list(word2vec)\n",
        "        , key=lambda word2: calculate_cosine_sim(word, word2), reverse=True)\n",
        "    for word1 in KN_Words[:k]:\n",
        "      result.append([word1,calculate_cosine_sim(word, word1)])\n",
        "    return result"
      ],
      "metadata": {
        "id": "3HLL6IjQGO5o"
      },
      "execution_count": 132,
      "outputs": []
    },
    {
      "cell_type": "code",
      "source": [
        "Word = \"l\\u1ED7_\\u0111en\" #@param {type: \"string\"}\n",
        "K = 10 #@param {type: \"integer\"}\n",
        "for KN in KN_Words(Word, K):\n",
        "  print(KN)"
      ],
      "metadata": {
        "id": "T3fZRmVPm6i_",
        "colab": {
          "base_uri": "https://localhost:8080/"
        },
        "outputId": "b09a26fa-7825-4972-e0d6-3a0974dd3c3c"
      },
      "execution_count": 135,
      "outputs": [
        {
          "output_type": "stream",
          "name": "stdout",
          "text": [
            "['lỗ_đen', 1.0000000000000004]\n",
            "['hố_đen', 0.7340683342360697]\n",
            "['thiên_thể', 0.6743552711893132]\n",
            "['photon', 0.6200421643725726]\n",
            "['hành_tinh', 0.6082189780371298]\n",
            "['vũ_trụ', 0.6032494741252601]\n",
            "['hạt_cơ_bản', 0.5967331755138431]\n",
            "['sao_hải_vương', 0.5933081822804707]\n",
            "['sao_chổi', 0.5911948687300321]\n",
            "['hệ_mặt_trời', 0.590393802977992]\n"
          ]
        }
      ]
    },
    {
      "cell_type": "markdown",
      "source": [
        "##*3.\tSynonym-antonym classification*\n",
        "Implement a classifier (Logistic Regression, Multi-layer Perceptron, …) for distinguishing synonyms and antonyms. For training, you are given a data set in directory antonym-synonym set: https://github.com/NLP-Projects/Word-Similarity/tree/master/antonym-synonym%20set \\\\\n",
        "For testing, you use ViCon-400 (in directory Datasets/ViCon-400). \n",
        "Experimental results are evaluated by precision scores, recall scores and F-measure (F1).\n",
        "<h3 align= \"center\">\n",
        "$Precision=\\frac{True\\ positive}{True\\ positive+False\\ positive}\\\\\n",
        "Recall=\\ \\frac{True\\ positive}{True\\ positive+False\\ negative}\\\\\n",
        "F1=2\\times\\frac{Precision\\times Recall}{Precision+Recall}$ <h3>"
      ],
      "metadata": {
        "id": "MfAqswF6GPXD"
      }
    },
    {
      "cell_type": "markdown",
      "source": [
        "### Load data, Train model"
      ],
      "metadata": {
        "id": "A7zZN0MQBOuc"
      }
    },
    {
      "cell_type": "code",
      "source": [
        "# add categories name for each column of .csv file\n",
        "def add_category(data_path, line):\n",
        "  data = open(data_path, \"r\").read()\n",
        "  if not line in data:\n",
        "    with open(data_path, \"w\") as f:\n",
        "      f.write(line + \"\\n\" + data)"
      ],
      "metadata": {
        "id": "sFbm5sFWvRoU"
      },
      "execution_count": 15,
      "outputs": []
    },
    {
      "cell_type": "code",
      "source": [
        "Antonym_path=\"Word-Similarity/antonym-synonym set/Antonym_vietnamese.txt\"\n",
        "Synonym_path=\"Word-Similarity/antonym-synonym set/Synonym_vietnamese.txt\"\n",
        "\n",
        "add_category(Antonym_path,'Word1 Word2')\n",
        "add_category(Synonym_path,'Word1 Word2')\n",
        "\n",
        "antonym_data = pd.read_csv(Antonym_path, sep=\" \")\n",
        "antonym_data['Relation'] = 'ANT'\n",
        "\n",
        "synonym_data = pd.read_csv(Synonym_path, sep=\" \")\n",
        "synonym_data['Relation'] = 'SYN'"
      ],
      "metadata": {
        "id": "kqOYe319qk98"
      },
      "execution_count": 16,
      "outputs": []
    },
    {
      "cell_type": "code",
      "source": [
        "def load_data(data):\n",
        "  x_data, y_data = [], []\n",
        "\n",
        "  for index, rows in data.iterrows():\n",
        "    word1 = rows['Word1']\n",
        "    word2 = rows['Word2']\n",
        "    relation = rows['Relation']\n",
        "\n",
        "    # word2vec is W2V_150 data - pre-trained embeddings\n",
        "    if word1 in word2vec and word2 in word2vec:\n",
        "      if relation == 'ANT':\n",
        "        y_data.append(0)\n",
        "      elif relation == 'SYN':\n",
        "        y_data.append(1)\n",
        "      else:\n",
        "        continue\n",
        "\n",
        "      x_data.append(word2vec[word1] + word2vec[word2])\n",
        "\n",
        "  return x_data, y_data"
      ],
      "metadata": {
        "id": "XXQHU58UnGes"
      },
      "execution_count": 17,
      "outputs": []
    },
    {
      "cell_type": "code",
      "source": [
        "def load_traindata(antonym_data, synonym_data):\n",
        "  antonym_x_train, antonym_y_train = load_data(antonym_data)\n",
        "  synonym_x_train, synonym_y_train = load_data(synonym_data)\n",
        "\n",
        "  x_train = antonym_x_train + synonym_x_train\n",
        "  y_train = antonym_y_train + synonym_y_train\n",
        "\n",
        "  return x_train, y_train"
      ],
      "metadata": {
        "id": "P1AJuTekyhXA"
      },
      "execution_count": 18,
      "outputs": []
    },
    {
      "cell_type": "code",
      "source": [
        "def test_model(data, model):\n",
        "  x_train, y_train = load_traindata(antonym_data, synonym_data)\n",
        "\n",
        "  model.fit(x_train, y_train)\n",
        "\n",
        "  x_test, y_test = load_data(data)\n",
        "\n",
        "  pred = model.predict(x_test)\n",
        "\n",
        "  print('Precision score:', precision_score(y_test, pred))\n",
        "  print('Recall score:', recall_score(y_test, pred))\n",
        "  print('F1 score:', f1_score(y_test, pred))\n",
        "  print('Accuracy:', accuracy_score(y_test, pred))"
      ],
      "metadata": {
        "id": "XDwEk9eVzeyv"
      },
      "execution_count": 19,
      "outputs": []
    },
    {
      "cell_type": "code",
      "source": [
        "def test_model_vicon_400(model):\n",
        "\n",
        "  x_train, y_train = load_traindata(antonym_data, synonym_data)\n",
        "\n",
        "  model.fit(x_train, y_train)\n",
        "\n",
        "  noun_x_test, noun_y_test = load_data(vicon_400_noun_pairs)\n",
        "  verb_x_test, verb_y_test = load_data(vicon_400_verb_pairs)\n",
        "  adj_x_test, adj_y_test = load_data(vicon_600_adj_pairs)\n",
        "\n",
        "  x_test = noun_x_test + verb_x_test + adj_x_test\n",
        "  y_test = noun_y_test + verb_y_test + adj_y_test\n",
        "\n",
        "  pred = model.predict(x_test)\n",
        "\n",
        "  print('Precision score:', precision_score(y_test, pred))\n",
        "  print('Recall score:', recall_score(y_test, pred))\n",
        "  print('F1 score:', f1_score(y_test, pred))\n",
        "  print('Accuracy:', accuracy_score(y_test, pred))"
      ],
      "metadata": {
        "id": "cxBnA-FS4fjv"
      },
      "execution_count": 20,
      "outputs": []
    },
    {
      "cell_type": "markdown",
      "source": [
        "### Logistic Regression"
      ],
      "metadata": {
        "id": "K6Vs5y6Y9FdC"
      }
    },
    {
      "cell_type": "code",
      "source": [
        "# test 400_noun_pairs\n",
        "print(\"------------------------------------\\n\")\n",
        "print(\"Test ViCon 400 Noun Pair:\\n\")\n",
        "test_model(vicon_400_noun_pairs, LogisticRegression())"
      ],
      "metadata": {
        "colab": {
          "base_uri": "https://localhost:8080/"
        },
        "id": "BcTNVKFt1Ai5",
        "outputId": "2798e7be-15d5-4cca-c184-ae3948937ff4"
      },
      "execution_count": 21,
      "outputs": [
        {
          "output_type": "stream",
          "name": "stdout",
          "text": [
            "------------------------------------\n",
            "\n",
            "Test ViCon 400 Noun Pair:\n",
            "\n",
            "Precision score: 0.5333333333333333\n",
            "Recall score: 0.987012987012987\n",
            "F1 score: 0.69248291571754\n",
            "Accuracy: 0.5858895705521472\n"
          ]
        }
      ]
    },
    {
      "cell_type": "code",
      "source": [
        "# test 400_verb_pairs\n",
        "print(\"------------------------------------\\n\")\n",
        "print(\"Test ViCon 400 Verb Pair:\\n\")\n",
        "test_model(vicon_400_verb_pairs, LogisticRegression())"
      ],
      "metadata": {
        "colab": {
          "base_uri": "https://localhost:8080/"
        },
        "id": "Im3TjyJe30Bf",
        "outputId": "f3cacbe5-0752-4717-d4a3-a927518dc8c2"
      },
      "execution_count": 22,
      "outputs": [
        {
          "output_type": "stream",
          "name": "stdout",
          "text": [
            "------------------------------------\n",
            "\n",
            "Test ViCon 400 Verb Pair:\n",
            "\n",
            "Precision score: 0.5214285714285715\n",
            "Recall score: 0.954248366013072\n",
            "F1 score: 0.674364896073903\n",
            "Accuracy: 0.5828402366863905\n"
          ]
        }
      ]
    },
    {
      "cell_type": "code",
      "source": [
        "# test 600_adj_pairs\n",
        "print(\"------------------------------------\\n\")\n",
        "print(\"Test ViCon 600 Adj Pair:\\n\")\n",
        "test_model(vicon_600_adj_pairs, LogisticRegression())"
      ],
      "metadata": {
        "colab": {
          "base_uri": "https://localhost:8080/"
        },
        "id": "e1FIDehE4FJI",
        "outputId": "069ce8f0-13df-42f6-f5dc-77914b9c65ee"
      },
      "execution_count": 23,
      "outputs": [
        {
          "output_type": "stream",
          "name": "stdout",
          "text": [
            "------------------------------------\n",
            "\n",
            "Test ViCon 600 Adj Pair:\n",
            "\n",
            "Precision score: 0.5960912052117264\n",
            "Recall score: 0.8061674008810573\n",
            "F1 score: 0.6853932584269663\n",
            "Accuracy: 0.6699410609037328\n"
          ]
        }
      ]
    },
    {
      "cell_type": "code",
      "source": [
        "# test vicon 400\n",
        "print(\"------------------------------------\\n\")\n",
        "print(\"Test ViCon 400:\\n\")\n",
        "test_model_vicon_400(LogisticRegression())"
      ],
      "metadata": {
        "colab": {
          "base_uri": "https://localhost:8080/"
        },
        "id": "9GRTU8dW6c8i",
        "outputId": "2bc63018-e49d-4277-cffe-6411d0b86f99"
      },
      "execution_count": 24,
      "outputs": [
        {
          "output_type": "stream",
          "name": "stdout",
          "text": [
            "------------------------------------\n",
            "\n",
            "Test ViCon 400:\n",
            "\n",
            "Precision score: 0.551605504587156\n",
            "Recall score: 0.900749063670412\n",
            "F1 score: 0.6842105263157895\n",
            "Accuracy: 0.6214833759590793\n"
          ]
        }
      ]
    },
    {
      "cell_type": "markdown",
      "source": [
        "### Multi-layer Perceptron"
      ],
      "metadata": {
        "id": "hI6ZNkN09Twv"
      }
    },
    {
      "cell_type": "code",
      "source": [
        "hidden_layer_sizes = 50 #@param {type: \"integer\"}"
      ],
      "metadata": {
        "id": "r_tcpTjzAisg"
      },
      "execution_count": 136,
      "outputs": []
    },
    {
      "cell_type": "code",
      "source": [
        "# test 400_noun_pairs\n",
        "print(\"------------------------------------\\n\")\n",
        "print(\"Test ViCon 400 Noun Pair:\\n\")\n",
        "test_model(vicon_400_noun_pairs, MLPClassifier(hidden_layer_sizes=hidden_layer_sizes))"
      ],
      "metadata": {
        "colab": {
          "base_uri": "https://localhost:8080/"
        },
        "outputId": "f95eb451-b1bb-4e70-8d9b-f4aa7cbc1e14",
        "id": "Jq4dfZdN_AOq"
      },
      "execution_count": 137,
      "outputs": [
        {
          "output_type": "stream",
          "name": "stdout",
          "text": [
            "------------------------------------\n",
            "\n",
            "Test ViCon 400 Noun Pair:\n",
            "\n",
            "Precision score: 1.0\n",
            "Recall score: 1.0\n",
            "F1 score: 1.0\n",
            "Accuracy: 1.0\n"
          ]
        }
      ]
    },
    {
      "cell_type": "code",
      "source": [
        "# test 400_verb_pairs\n",
        "print(\"------------------------------------\\n\")\n",
        "print(\"Test ViCon 400 Verb Pair:\\n\")\n",
        "test_model(vicon_400_verb_pairs, MLPClassifier(hidden_layer_sizes=hidden_layer_sizes))"
      ],
      "metadata": {
        "colab": {
          "base_uri": "https://localhost:8080/"
        },
        "outputId": "813ad5f4-e167-47d1-8c70-44975108556b",
        "id": "3ruwEyVy_F0i"
      },
      "execution_count": 138,
      "outputs": [
        {
          "output_type": "stream",
          "name": "stdout",
          "text": [
            "------------------------------------\n",
            "\n",
            "Test ViCon 400 Verb Pair:\n",
            "\n",
            "Precision score: 0.9935064935064936\n",
            "Recall score: 1.0\n",
            "F1 score: 0.9967426710097721\n",
            "Accuracy: 0.9970414201183432\n"
          ]
        }
      ]
    },
    {
      "cell_type": "code",
      "source": [
        "# test 600_adj_pairs\n",
        "print(\"------------------------------------\\n\")\n",
        "print(\"Test ViCon 600 Adj Pair:\\n\")\n",
        "test_model(vicon_600_adj_pairs, MLPClassifier(hidden_layer_sizes=hidden_layer_sizes))"
      ],
      "metadata": {
        "colab": {
          "base_uri": "https://localhost:8080/"
        },
        "outputId": "2d5e9ce3-5175-4568-8143-c729d479df99",
        "id": "yjjtHw72_MiB"
      },
      "execution_count": 139,
      "outputs": [
        {
          "output_type": "stream",
          "name": "stdout",
          "text": [
            "------------------------------------\n",
            "\n",
            "Test ViCon 600 Adj Pair:\n",
            "\n",
            "Precision score: 1.0\n",
            "Recall score: 1.0\n",
            "F1 score: 1.0\n",
            "Accuracy: 1.0\n"
          ]
        }
      ]
    },
    {
      "cell_type": "code",
      "source": [
        "# test vicon 400\n",
        "print(\"------------------------------------\\n\")\n",
        "print(\"Test ViCon 400:\\n\")\n",
        "test_model_vicon_400(MLPClassifier(hidden_layer_sizes=hidden_layer_sizes))"
      ],
      "metadata": {
        "colab": {
          "base_uri": "https://localhost:8080/"
        },
        "outputId": "39c1a729-515f-4bbd-bb5a-5fe7721b7c11",
        "id": "91W4XxMO_PCK"
      },
      "execution_count": 140,
      "outputs": [
        {
          "output_type": "stream",
          "name": "stdout",
          "text": [
            "------------------------------------\n",
            "\n",
            "Test ViCon 400:\n",
            "\n",
            "Precision score: 0.9981308411214953\n",
            "Recall score: 1.0\n",
            "F1 score: 0.9990645463049579\n",
            "Accuracy: 0.9991474850809889\n"
          ]
        }
      ]
    }
  ]
}